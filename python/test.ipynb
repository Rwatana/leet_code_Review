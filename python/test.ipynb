{
 "cells": [
  {
   "cell_type": "code",
   "execution_count": null,
   "metadata": {},
   "outputs": [],
   "source": []
  },
  {
   "cell_type": "code",
   "execution_count": 1,
   "metadata": {},
   "outputs": [
    {
     "name": "stdout",
     "output_type": "stream",
     "text": [
      "Random vector pi:\n",
      "[0.22638162 0.97848945 0.83077243]\n",
      "\n",
      "Matrix G:\n",
      "[[0.03016626 0.13038763 0.11070374]\n",
      " [0.13038763 0.56357454 0.47849487]\n",
      " [0.11070374 0.47849487 0.40625921]]\n",
      "\n",
      "Check G * pi = pi:\n",
      "[0.22638162 0.97848945 0.83077243]\n"
     ]
    }
   ],
   "source": [
    "import numpy as np\n",
    "\n",
    "# ランダムな3次元ベクトルを生成\n",
    "pi = np.random.rand(3)\n",
    "\n",
    "# G * pi = pi を満たす G を計算\n",
    "# G = pi * pi^T / (pi^T * pi) とすると、この条件を満たす行列 G が得られる\n",
    "# pi^T * pi は内積であるため、スカラー値になる\n",
    "G = np.outer(pi, pi) / np.dot(pi, pi)\n",
    "\n",
    "# 結果の確認\n",
    "print(\"Random vector pi:\")\n",
    "print(pi)\n",
    "print(\"\\nMatrix G:\")\n",
    "print(G)\n",
    "print(\"\\nCheck G * pi = pi:\")\n",
    "print(np.dot(G, pi))  # G * pi が pi に等しいか確認\n"
   ]
  },
  {
   "cell_type": "code",
   "execution_count": 4,
   "metadata": {},
   "outputs": [
    {
     "name": "stdout",
     "output_type": "stream",
     "text": [
      "Random vector pi:\n",
      "[0.02839453 0.26320973 0.57727532]\n",
      "\n",
      "Candidates for G:\n",
      "\n",
      "Candidate 1:\n",
      "[[0.00214814 0.01526288 0.04212236]\n",
      " [0.01526288 0.24331835 0.34425963]\n",
      " [0.04212236 0.34425963 0.84096232]]\n",
      "\n",
      "Check G * pi = pi:\n",
      "[0.02839453 0.26320973 0.57727532]\n",
      "\n",
      "Candidate 2:\n",
      "[[0.00487938 0.02577976 0.03719283]\n",
      " [0.02577976 0.19001487 0.36804615]\n",
      " [0.03719283 0.36804615 0.83035928]]\n",
      "\n",
      "Check G * pi = pi:\n",
      "[0.02839453 0.26320973 0.57727532]\n",
      "\n",
      "Candidate 3:\n",
      "[[0.00990008 0.03052078 0.03478419]\n",
      " [0.03052078 0.18996497 0.36783571]\n",
      " [0.03478419 0.36783571 0.8305737 ]]\n",
      "\n",
      "Check G * pi = pi:\n",
      "[0.02839453 0.26320973 0.57727532]\n",
      "\n",
      "Candidate 4:\n",
      "[[0.02085817 0.01625992 0.04074746]\n",
      " [0.01625992 0.17204064 0.37670979]\n",
      " [0.04074746 0.37670979 0.82623423]]\n",
      "\n",
      "Check G * pi = pi:\n",
      "[0.02839453 0.26320973 0.57727532]\n",
      "\n",
      "Candidate 5:\n",
      "[[0.0143518  0.03465011 0.03268245]\n",
      " [0.03465011 0.19280394 0.36633817]\n",
      " [0.03268245 0.36633817 0.83135989]]\n",
      "\n",
      "Check G * pi = pi:\n",
      "[0.02839453 0.26320973 0.57727532]\n"
     ]
    }
   ],
   "source": [
    "import numpy as np\n",
    "\n",
    "# ランダムな3次元ベクトルを生成\n",
    "pi = np.random.rand(3)\n",
    "\n",
    "# 射影行列 (プロジェクション行列) を計算\n",
    "P = np.outer(pi, pi) / np.dot(pi, pi)\n",
    "\n",
    "# pi に垂直な成分を生成する関数\n",
    "def generate_null_space_matrix(pi, scale=1.0):\n",
    "    # pi に垂直なベクトルを生成 (ランダムな方向)\n",
    "    null_vector = np.random.rand(3)\n",
    "    null_vector -= np.dot(null_vector, pi) / np.dot(pi, pi) * pi  # pi 方向を除去\n",
    "    null_vector /= np.linalg.norm(null_vector)  # 正規化\n",
    "\n",
    "    # 外積で null 成分の行列を生成\n",
    "    N = scale * np.outer(null_vector, null_vector)\n",
    "    return N\n",
    "\n",
    "# G の候補を生成\n",
    "candidates = []\n",
    "for _ in range(5):\n",
    "    # ランダムな垂直成分を持つ行列 N を生成\n",
    "    N = generate_null_space_matrix(pi, scale=np.random.rand() * 0.1)\n",
    "    G = P + N\n",
    "    candidates.append(G)\n",
    "\n",
    "# 結果の表示\n",
    "print(\"Random vector pi:\")\n",
    "print(pi)\n",
    "print(\"\\nCandidates for G:\")\n",
    "for i, G in enumerate(candidates):\n",
    "    print(f\"\\nCandidate {i + 1}:\")\n",
    "    print(G)\n",
    "    print(\"\\nCheck G * pi = pi:\")\n",
    "    print(np.dot(G, pi))  # G * pi が pi と等しいか確認\n"
   ]
  },
  {
   "cell_type": "markdown",
   "metadata": {},
   "source": []
  }
 ],
 "metadata": {
  "kernelspec": {
   "display_name": "Python 3",
   "language": "python",
   "name": "python3"
  },
  "language_info": {
   "codemirror_mode": {
    "name": "ipython",
    "version": 3
   },
   "file_extension": ".py",
   "mimetype": "text/x-python",
   "name": "python",
   "nbconvert_exporter": "python",
   "pygments_lexer": "ipython3",
   "version": "3.9.6"
  }
 },
 "nbformat": 4,
 "nbformat_minor": 2
}
